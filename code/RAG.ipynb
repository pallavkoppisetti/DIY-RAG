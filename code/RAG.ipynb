{
  "nbformat": 4,
  "nbformat_minor": 0,
  "metadata": {
    "colab": {
      "provenance": [],
      "authorship_tag": "ABX9TyMBjrn9PXxr95iPU4xpI6x8"
    },
    "kernelspec": {
      "name": "python3",
      "display_name": "Python 3"
    },
    "language_info": {
      "name": "python"
    }
  },
  "cells": [
    {
      "cell_type": "code",
      "execution_count": 1,
      "metadata": {
        "id": "fZc6wPwQYPnZ"
      },
      "outputs": [],
      "source": [
        "from transformers import AutoTokenizer, AutoModel\n",
        "import numpy as np\n",
        "import os\n",
        "import re\n",
        "import uuid\n",
        "import torch\n",
        "import json"
      ]
    },
    {
      "cell_type": "code",
      "source": [
        "for filename in os.listdir(directory_path):\n",
        "  file_path=os.path.join(directory_path,filename)\n",
        "  base=os.path.basename(file_path)\n",
        "  sku=os.path.splitext(base)[0]\n",
        "  if os.path.isfile(file_path):\n",
        "    with open(file_path,'r',encoding='utf-8') as file:\n",
        "      text=file.read()\n",
        "\n",
        "    doc_id=str(uuid.uuid4())\n",
        "\n",
        "para_separator=\"\\n\\n\"\n",
        "separator=\" \"\n",
        "    paragraphs=re.split(para_separator,text)\n",
        "\n",
        "    for paragraph in paragraphs:\n",
        "      words=paragraph.split(separator)\n",
        "      current_chunk_str=\"\"\n",
        "      chunk=[]\n",
        "      for word in words:\n",
        "\n",
        "\n"
      ],
      "metadata": {
        "id": "wHIj0no1Y3xa"
      },
      "execution_count": null,
      "outputs": []
    }
  ]
}